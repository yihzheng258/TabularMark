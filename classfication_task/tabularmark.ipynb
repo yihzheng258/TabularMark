{
 "cells": [
  {
   "cell_type": "code",
   "execution_count": null,
   "metadata": {},
   "outputs": [],
   "source": [
    "# define hyperparameters\n",
    "# p = 2 # size of candidate set\n",
    "n = 400 # number of key cells\n",
    "gamma = 1/2 # ratio between the length of green domain and red domain"
   ]
  }
 ],
 "metadata": {
  "kernelspec": {
   "display_name": "Python 3",
   "language": "python",
   "name": "python3"
  },
  "language_info": {
   "name": "python",
   "version": "3.10.13"
  }
 },
 "nbformat": 4,
 "nbformat_minor": 2
}
