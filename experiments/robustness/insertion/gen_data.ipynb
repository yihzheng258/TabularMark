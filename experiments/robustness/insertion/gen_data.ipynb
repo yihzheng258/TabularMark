{
 "cells": [
  {
   "cell_type": "code",
   "execution_count": 2,
   "metadata": {},
   "outputs": [],
   "source": [
    "import os\n",
    "import numpy as np\n",
    "import pandas as pd\n",
    "\n",
    "seed = 10000\n",
    "np.random.seed(seed)\n",
    "attack_proportion = [0.2, 0.4, 0.6, 0.8, 1.0]\n",
    "\n",
    "dataset = \"covertype\"\n",
    "loaded_results = np.load(f\"/home/zhengyihao/TabularMark/datasets/covertype/watermarked/{dataset}-{seed}.npy\", allow_pickle=True).item()\n",
    "watermarked_data = loaded_results['watermarked_data']\n",
    "divide_seeds = loaded_results['divide_seeds']\n",
    "indices = loaded_results['indices']\n",
    "\n",
    "# 插入函数\n",
    "def insert_tuples(temp, proportion):\n",
    "    # 计算需要插入的行数\n",
    "    num_insertions = int(proportion * len(temp))\n",
    "    \n",
    "    # 从原始数据中随机采样新行\n",
    "    sampled_rows = temp.sample(n=num_insertions, replace=True).reset_index(drop=True)\n",
    "    \n",
    "    # 随机生成插入位置\n",
    "    insertion_indices = np.random.choice(len(temp) + num_insertions, size=num_insertions, replace=False)\n",
    "    \n",
    "    # 创建一个新的 DataFrame 用于插入\n",
    "    expanded_temp = pd.DataFrame(index=range(len(temp) + num_insertions), columns=temp.columns)\n",
    "    \n",
    "    # 标记原始数据和新插入数据的位置\n",
    "    original_indices = np.setdiff1d(np.arange(len(temp) + num_insertions), insertion_indices)\n",
    "    \n",
    "    # 插入原始数据和新数据\n",
    "    expanded_temp.iloc[original_indices] = temp.values\n",
    "    expanded_temp.iloc[insertion_indices] = sampled_rows.values\n",
    "    \n",
    "    return expanded_temp\n",
    "\n",
    "# 主循环\n",
    "for proportion in attack_proportion:\n",
    "    for i in range(1):\n",
    "        temp = watermarked_data.copy()\n",
    "        \n",
    "        # 调用插入函数\n",
    "        temp = insert_tuples(temp, proportion)\n",
    "        \n",
    "        temp.to_csv(f\"/home/zhengyihao/TabularMark/datasets/covertype/insertion/{dataset}-{seed}-{proportion}-{i}.csv\", index=False)\n"
   ]
  }
 ],
 "metadata": {
  "kernelspec": {
   "display_name": "watermark",
   "language": "python",
   "name": "python3"
  },
  "language_info": {
   "codemirror_mode": {
    "name": "ipython",
    "version": 3
   },
   "file_extension": ".py",
   "mimetype": "text/x-python",
   "name": "python",
   "nbconvert_exporter": "python",
   "pygments_lexer": "ipython3",
   "version": "3.1.-1"
  }
 },
 "nbformat": 4,
 "nbformat_minor": 2
}
