{
 "cells": [
  {
   "cell_type": "code",
   "execution_count": 2,
   "metadata": {},
   "outputs": [
    {
     "name": "stdout",
     "output_type": "stream",
     "text": [
      "0.2: The average z-score is  7.021870595978444\n",
      "0.4: The average z-score is  9.308061022576076\n",
      "0.6: The average z-score is  5.388877434122992\n",
      "0.8: The average z-score is  2.939387691339814\n",
      "1.0: The average z-score is  1.1430952132988164\n"
     ]
    }
   ],
   "source": [
    "import os\n",
    "import torch\n",
    "import argparse\n",
    "import numpy as np\n",
    "import matplotlib.pyplot as plt\n",
    "import pandas as pd\n",
    "import math\n",
    "\n",
    "n = 150 # number of key cells\n",
    "gamma = 1/2 # ratio between the length of green domain and red domain\n",
    "\n",
    "seed = 10000\n",
    "dataset='HOG'\n",
    "proportions = [0.2, 0.4, 0.6, 0.8, 1.0]\n",
    "\n",
    "for proportion in proportions:\n",
    "    loaded_results = np.load(f\"../../../../datasets/HOG/watermarked/{dataset}-{10000}.npy\", allow_pickle=True).item()\n",
    "    # watermarked_data = loaded_results['watermarked_data']\n",
    "    watermarked_data = pd.read_csv(f\"../../../../datasets/HOG/alteration/HOG-10000-{proportion}-0.csv\")\n",
    "    divide_seeds = loaded_results['divide_seeds']\n",
    "    indices = loaded_results['indices'] \n",
    "    #添加水印\n",
    "    digit_types = watermarked_data['target'].unique()\n",
    "    digit_types.sort()\n",
    "    green_cell = 0\n",
    "    for idx, divide_seed in zip(indices, divide_seeds):\n",
    "        np.random.seed(divide_seed)\n",
    "        candidate_set = digit_types\n",
    "        # 打乱cover_types的顺序\n",
    "        shuffled_cover_types = list(digit_types)\n",
    "        # print(shuffled_cover_types)\n",
    "        np.random.shuffle(shuffled_cover_types)\n",
    "\n",
    "        # 确保cover_types能被划分为两个相等大小的部分\n",
    "        half_size = len(shuffled_cover_types) // 2\n",
    "\n",
    "        # 划分成green_domain和red_domain\n",
    "        green_domain = shuffled_cover_types[:half_size]\n",
    "        red_domain = shuffled_cover_types[half_size:]\n",
    "\n",
    "        if watermarked_data.loc[idx, 'target'] in green_domain:\n",
    "            green_cell += 1\n",
    "        \n",
    "    z_score = (green_cell - n/2) / math.sqrt(n/4)\n",
    "\n",
    "    print(f\"{proportion}: The average z-score is \",z_score)\n"
   ]
  },
  {
   "cell_type": "code",
   "execution_count": 6,
   "metadata": {},
   "outputs": [
    {
     "name": "stdout",
     "output_type": "stream",
     "text": [
      "0.2: The average z-score is  5.65685424949238\n",
      "0.4: The average z-score is  2.82842712474619\n",
      "0.6: The average z-score is  1.697056274847714\n",
      "0.8: The average z-score is  -0.565685424949238\n",
      "1.0: The average z-score is  -3.676955262170047\n"
     ]
    }
   ],
   "source": [
    "import os\n",
    "import torch\n",
    "import argparse\n",
    "import numpy as np\n",
    "import matplotlib.pyplot as plt\n",
    "import pandas as pd\n",
    "import math\n",
    "\n",
    "n = 50 # number of key cells\n",
    "gamma = 1/2 # ratio between the length of green domain and red domain\n",
    "p = 25\n",
    "k = 500\n",
    "\n",
    "seed = 10000\n",
    "dataset='housing'\n",
    "\n",
    "original_file = '../../../../datasets/boston_housing_prices/HousingData.csv'\n",
    "origin = pd.read_csv(original_file)\n",
    "proportions = [0.2, 0.4, 0.6, 0.8, 1.0]\n",
    "\n",
    "for proportion in proportions:\n",
    "    loaded_results = np.load(f\"../../../../datasets/boston_housing_prices/watermarked/{dataset}-{10000}.npy\", allow_pickle=True).item()\n",
    "    # watermarked_data = loaded_results['watermarked_data']\n",
    "    watermarked_data = pd.read_csv(f\"../../../../datasets/boston_housing_prices/alteration/housing-10000-{proportion}-0.csv\")\n",
    "    divide_seeds = loaded_results['divide_seeds']\n",
    "    indices = loaded_results['indices']\n",
    "    green_cell = 0\n",
    "    for idx, divide_seed in zip(indices, divide_seeds):\n",
    "        np.random.seed(divide_seed)\n",
    "        # 生成等分点\n",
    "        intervals = np.linspace(-p, p, k + 1)\n",
    "        # 将 [-p, p] 等分为 k 份\n",
    "        segments = [(intervals[i], intervals[i + 1]) for i in range(k)]\n",
    "        np.random.shuffle(segments)\n",
    "        # 将 segments 分为 green domains 和 red domains\n",
    "        half_k = k // 2\n",
    "        green_domains = segments[:half_k]\n",
    "        red_domains = segments[half_k:]\n",
    "\n",
    "        difference = watermarked_data.loc[idx, 'MEDV'] - origin.loc[idx, 'MEDV']\n",
    "        for low, high in green_domains:\n",
    "            if low <= difference < high:\n",
    "                green_cell += 1\n",
    "                break\n",
    "        \n",
    "    z_score = (green_cell - n/2) / math.sqrt(n/4)\n",
    "\n",
    "    print(f\"{proportion}: The average z-score is \", z_score)\n",
    "\n",
    "\n",
    "\n",
    "\n",
    "\n"
   ]
  }
 ],
 "metadata": {
  "kernelspec": {
   "display_name": "watermark",
   "language": "python",
   "name": "python3"
  },
  "language_info": {
   "codemirror_mode": {
    "name": "ipython",
    "version": 3
   },
   "file_extension": ".py",
   "mimetype": "text/x-python",
   "name": "python",
   "nbconvert_exporter": "python",
   "pygments_lexer": "ipython3",
   "version": "3.10.13"
  }
 },
 "nbformat": 4,
 "nbformat_minor": 2
}
