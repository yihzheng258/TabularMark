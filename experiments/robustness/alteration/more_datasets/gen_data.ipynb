{
 "cells": [
  {
   "cell_type": "code",
   "execution_count": 1,
   "metadata": {},
   "outputs": [],
   "source": [
    "# HOG\n",
    "\n",
    "import os\n",
    "import torch\n",
    "import argparse\n",
    "import numpy as np\n",
    "import matplotlib.pyplot as plt\n",
    "import pandas as pd\n",
    "\n",
    "seed = 10000\n",
    "np.random.seed(seed)\n",
    "attack_proportion = [0.2, 0.4, 0.6, 0.8, 1.0]\n",
    "\n",
    "dataset = \"HOG\"\n",
    "loaded_results = np.load(f\"../../../../datasets/HOG/watermarked/{dataset}-{seed}.npy\", allow_pickle=True).item()\n",
    "watermarked_data = loaded_results['watermarked_data']\n",
    "# watermarked_data = origin\n",
    "divide_seeds = loaded_results['divide_seeds']\n",
    "indices = loaded_results['indices']\n",
    "\n",
    "cover_types = watermarked_data['target'].unique()\n",
    "cover_types.sort()\n",
    "\n",
    "for proportion in attack_proportion:\n",
    "    for i in range(1):\n",
    "        temp = watermarked_data.copy()\n",
    "        indices = np.random.choice(len(temp), size=int(proportion * len(temp)), replace=False)\n",
    "        perturb_values = np.random.choice(cover_types, size=int(proportion * len(temp)))\n",
    "        temp.loc[indices, 'target'] = perturb_values\n",
    "        temp.to_csv(f\"../../../../datasets/HOG/alteration/{dataset}-{seed}-{proportion}-{i}.csv\", index=False)\n"
   ]
  },
  {
   "cell_type": "code",
   "execution_count": 2,
   "metadata": {},
   "outputs": [],
   "source": [
    "# Housing\n",
    "# HOG\n",
    "\n",
    "import os\n",
    "import torch\n",
    "import argparse\n",
    "import numpy as np\n",
    "import matplotlib.pyplot as plt\n",
    "import pandas as pd\n",
    "\n",
    "seed = 10000\n",
    "np.random.seed(seed)\n",
    "attack_proportion = [0.2, 0.4, 0.6, 0.8, 1.0]\n",
    "\n",
    "dataset = \"housing\"\n",
    "loaded_results = np.load(f\"../../../../datasets/boston_housing_prices/watermarked/{dataset}-{seed}.npy\", allow_pickle=True).item()\n",
    "watermarked_data = loaded_results['watermarked_data']\n",
    "# watermarked_data = origin\n",
    "divide_seeds = loaded_results['divide_seeds']\n",
    "indices = loaded_results['indices']\n",
    "\n",
    "sigma = 20\n",
    "attack_range = 2 *sigma\n",
    "\n",
    "np.random.seed(115)\n",
    "for proportion in attack_proportion:\n",
    "    for i in range(1):\n",
    "        temp = watermarked_data.copy()\n",
    "        indices = np.random.choice(len(temp), size=int(proportion * len(temp)), replace=False)\n",
    "        perturb_values = np.random.uniform(-attack_range, attack_range, size=len(indices))\n",
    "        temp.loc[indices, 'MEDV'] += perturb_values\n",
    "        temp.to_csv(f\"../../../../datasets/boston_housing_prices/alteration/{dataset}-{seed}-{proportion}-{i}.csv\", index=False)\n",
    "\n"
   ]
  }
 ],
 "metadata": {
  "kernelspec": {
   "display_name": "watermark",
   "language": "python",
   "name": "python3"
  },
  "language_info": {
   "codemirror_mode": {
    "name": "ipython",
    "version": 3
   },
   "file_extension": ".py",
   "mimetype": "text/x-python",
   "name": "python",
   "nbconvert_exporter": "python",
   "pygments_lexer": "ipython3",
   "version": "3.10.13"
  }
 },
 "nbformat": 4,
 "nbformat_minor": 2
}
