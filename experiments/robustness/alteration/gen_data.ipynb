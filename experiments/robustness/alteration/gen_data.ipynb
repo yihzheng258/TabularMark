{
 "cells": [
  {
   "cell_type": "code",
   "execution_count": 6,
   "metadata": {},
   "outputs": [],
   "source": [
    "import os\n",
    "import torch\n",
    "import argparse\n",
    "import numpy as np\n",
    "import matplotlib.pyplot as plt\n",
    "import pandas as pd\n",
    "\n",
    "seed = 10000\n",
    "np.random.seed(seed)\n",
    "attack_proportion = [0.2, 0.4, 0.6, 0.8, 1.0]\n",
    "\n",
    "dataset = \"covertype\"\n",
    "loaded_results = np.load(f\"/home/zhengyihao/TabularMark/datasets/covertype/watermarked/{dataset}-{seed}.npy\", allow_pickle=True).item()\n",
    "watermarked_data = loaded_results['watermarked_data']\n",
    "# watermarked_data = origin\n",
    "divide_seeds = loaded_results['divide_seeds']\n",
    "indices = loaded_results['indices']\n",
    "\n",
    "cover_types = watermarked_data['Cover_Type'].unique()\n",
    "cover_types.sort()\n",
    "\n",
    "np.random.seed(12138)\n",
    "for proportion in attack_proportion:\n",
    "    for i in range(1):\n",
    "        temp = watermarked_data.copy()\n",
    "        indices = np.random.choice(len(temp), size=int(proportion * len(temp)), replace=False)\n",
    "        perturb_values = np.random.choice(cover_types, size=int(proportion * len(temp)))\n",
    "        temp.loc[indices, 'Cover_Type'] = perturb_values\n",
    "        temp.to_csv(f\"/home/zhengyihao/TabularMark/datasets/covertype/alteration/{dataset}-{seed}-{proportion}-{i}.csv\", index=False)\n"
   ]
  }
 ],
 "metadata": {
  "kernelspec": {
   "display_name": "watermark",
   "language": "python",
   "name": "python3"
  },
  "language_info": {
   "codemirror_mode": {
    "name": "ipython",
    "version": 3
   },
   "file_extension": ".py",
   "mimetype": "text/x-python",
   "name": "python",
   "nbconvert_exporter": "python",
   "pygments_lexer": "ipython3",
   "version": "3.10.13"
  }
 },
 "nbformat": 4,
 "nbformat_minor": 2
}
