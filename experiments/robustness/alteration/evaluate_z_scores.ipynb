{
 "cells": [
  {
   "cell_type": "code",
   "execution_count": 1,
   "metadata": {},
   "outputs": [
    {
     "name": "stdout",
     "output_type": "stream",
     "text": [
      "0.2: The z-score is  14.202816622064793\n",
      "0.4: The z-score is  9.699484522385712\n",
      "0.6: The z-score is  5.888972745734182\n",
      "0.8: The z-score is  1.5011106998930268\n",
      "1.0: The z-score is  -0.5773502691896257\n"
     ]
    }
   ],
   "source": [
    "import pandas as pd\n",
    "from sklearn.model_selection import train_test_split\n",
    "from sklearn.preprocessing import LabelEncoder\n",
    "from sklearn.metrics import f1_score\n",
    "import xgboost as xgb\n",
    "import numpy as np\n",
    "import math\n",
    "\n",
    "dataset = 'covertype'\n",
    "seed = 10000\n",
    "n = 300 # number of key cells\n",
    "gamma = 1/2 # ratio between the length of green domain and red domain\n",
    "\n",
    "\n",
    "# 读取数据\n",
    "origin = pd.read_csv(\"../../../datasets/covertype/cover_type_with_columns.csv\")\n",
    "\n",
    "proportions = [0.2, 0.4, 0.6, 0.8, 1.0]\n",
    "\n",
    "for proportion in proportions:\n",
    "    loaded_results = np.load(f\"../../../datasets/covertype/watermarked/{dataset}-{seed}.npy\", allow_pickle=True).item()\n",
    "    # watermarked_data = loaded_results['watermarked_data']\n",
    "    watermarked_data = pd.read_csv(f\"../../../datasets/covertype/alteration/{dataset}-{seed}-{proportion}-{0}.csv\")\n",
    "    divide_seeds = loaded_results['divide_seeds']\n",
    "    indices = loaded_results['indices']\n",
    "\n",
    "\n",
    "    #添加水印\n",
    "    cover_types = watermarked_data['Cover_Type'].unique()\n",
    "    cover_types.sort()  \n",
    "\n",
    "    green_cell = 0\n",
    "    for idx, divide_seed in zip(indices, divide_seeds):\n",
    "        np.random.seed(divide_seed)\n",
    "        candidate_set = cover_types\n",
    "        # 打乱cover_types的顺序\n",
    "        shuffled_cover_types = list(cover_types)\n",
    "        # print(shuffled_cover_types)\n",
    "        np.random.shuffle(shuffled_cover_types)\n",
    "\n",
    "        # 确保cover_types能被划分为两个相等大小的部分\n",
    "        half_size = len(shuffled_cover_types) // 2\n",
    "\n",
    "        # 划分成green_domain和red_domain\n",
    "        green_domain = shuffled_cover_types[:half_size]\n",
    "        red_domain = shuffled_cover_types[half_size:]\n",
    "\n",
    "        if watermarked_data.loc[idx, 'Cover_Type'] in green_domain:\n",
    "            green_cell += 1\n",
    "        \n",
    "    z_score = (green_cell - n/2) / math.sqrt(n/4)\n",
    "    print(f\"{proportion}: The z-score is \", z_score)\n",
    "\n"
   ]
  }
 ],
 "metadata": {
  "kernelspec": {
   "display_name": "watermark",
   "language": "python",
   "name": "python3"
  },
  "language_info": {
   "codemirror_mode": {
    "name": "ipython",
    "version": 3
   },
   "file_extension": ".py",
   "mimetype": "text/x-python",
   "name": "python",
   "nbconvert_exporter": "python",
   "pygments_lexer": "ipython3",
   "version": "3.10.13"
  }
 },
 "nbformat": 4,
 "nbformat_minor": 2
}
