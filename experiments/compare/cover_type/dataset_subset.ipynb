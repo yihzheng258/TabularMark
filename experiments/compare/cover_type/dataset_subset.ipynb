{
 "cells": [
  {
   "cell_type": "code",
   "execution_count": 3,
   "metadata": {},
   "outputs": [
    {
     "name": "stderr",
     "output_type": "stream",
     "text": [
      "/tmp/ipykernel_933910/4285482961.py:7: DeprecationWarning: DataFrameGroupBy.apply operated on the grouping columns. This behavior is deprecated, and in a future version of pandas the grouping columns will be excluded from the operation. Either pass `include_groups=False` to exclude the groupings or explicitly select the grouping columns after groupby to silence this warning.\n",
      "  subset = df.groupby('Cover_Type', as_index=False, group_keys=False).apply(lambda x: x.head(2000))\n"
     ]
    }
   ],
   "source": [
    "import pandas as pd\n",
    "\n",
    "# 读取数据\n",
    "df = pd.read_csv('/home/zhengyihao/dataset/covertype/covtype_with_key.data')\n",
    "\n",
    "# 对 'Cover_Type' 列进行分组，并取每组的前 2000 个\n",
    "subset = df.groupby('Cover_Type', as_index=False, group_keys=False).apply(lambda x: x.head(2000))\n",
    "\n",
    "# 根据 'primary_key' 进行排序\n",
    "subset.sort_values(by='primary_key', inplace=True)\n",
    "\n",
    "# 存储数据\n",
    "subset.to_csv('/home/zhengyihao/dataset/covertype/covtype_with_key.subset.data', index=False)"
   ]
  }
 ],
 "metadata": {
  "kernelspec": {
   "display_name": "Python 3",
   "language": "python",
   "name": "python3"
  },
  "language_info": {
   "codemirror_mode": {
    "name": "ipython",
    "version": 3
   },
   "file_extension": ".py",
   "mimetype": "text/x-python",
   "name": "python",
   "nbconvert_exporter": "python",
   "pygments_lexer": "ipython3",
   "version": "3.10.13"
  }
 },
 "nbformat": 4,
 "nbformat_minor": 2
}
