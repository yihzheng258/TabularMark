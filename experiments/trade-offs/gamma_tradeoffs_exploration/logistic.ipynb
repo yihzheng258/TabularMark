{
 "cells": [
  {
   "cell_type": "markdown",
   "metadata": {},
   "source": []
  },
  {
   "cell_type": "code",
   "execution_count": 7,
   "metadata": {},
   "outputs": [
    {
     "name": "stdout",
     "output_type": "stream",
     "text": [
      "0.9583333333333334\n",
      "0.9566666666666667\n",
      "0.9283333333333333\n",
      "0.92\n",
      "0.895\n",
      "0.8916666666666667\n",
      "0.8833333333333333\n"
     ]
    }
   ],
   "source": [
    "# 验证 tabularmark 的不可感知性\n",
    "\n",
    "# 导入所需的库\n",
    "import pandas as pd \n",
    "from sklearn.model_selection import train_test_split\n",
    "from sklearn.linear_model import LogisticRegression\n",
    "from sklearn.metrics import accuracy_score\n",
    "from sklearn.metrics import classification_report\n",
    "import json\n",
    "\n",
    "\n",
    "# 读取数据\n",
    "file_paths = [\n",
    "    \"/home/zhengyihao/TabularMark/classfication_task/normal_distribution/synthetic_dataset_labeled.csv\",\n",
    "    \"/home/zhengyihao/TabularMark/classfication_task/normal_distribution/watermarked_synthetic_dataset_labeled.csv\",\n",
    "    \"/home/zhengyihao/dataset/normal_distribution/tabularmark_alter20.data.csv\",\n",
    "    \"/home/zhengyihao/dataset/normal_distribution/tabularmark_alter40.data.csv\",\n",
    "    \"/home/zhengyihao/dataset/normal_distribution/tabularmark_alter60.data.csv\",\n",
    "    \"/home/zhengyihao/dataset/normal_distribution/tabularmark_alter80.data.csv\",\n",
    "    \"/home/zhengyihao/dataset/normal_distribution/tabularmark_alter100.data.csv\"\n",
    "]\n",
    "\n",
    "\n",
    "ordinary_data = pd.read_csv(\"/home/zhengyihao/TabularMark/classfication_task/normal_distribution/synthetic_dataset_labeled.csv\")\n",
    "\n",
    "# 数据预处理\n",
    "X_orignal = ordinary_data.iloc[:,0:-1] \n",
    "y_original = ordinary_data.iloc[:,-1] \n",
    "\n",
    "for file_path in file_paths:\n",
    "    watermarked_data = pd.read_csv(file_path)\n",
    "    X_watermark = watermarked_data.iloc[:,0:-1] \n",
    "    y_watermark = watermarked_data.iloc[:,-1] \n",
    "   \n",
    "   # 划分训练集和测试集\n",
    "    _, X_test, _, y_test = train_test_split(X_orignal, y_original, test_size=0.3, random_state=42)\n",
    "    X_train, _, y_train, _ = train_test_split(X_watermark, y_watermark, test_size=0.3, random_state=42)\n",
    "\n",
    "    # 使用 XGBoost 创建模型\n",
    "    model = LogisticRegression()\n",
    "\n",
    "    # 训练模型\n",
    "    model.fit(X_train, y_train)\n",
    "\n",
    "    # 预测测试集数据\n",
    "    y_pred = model.predict(X_test)\n",
    "\n",
    "    # 评估模型\n",
    "    accuracy = accuracy_score(y_test, y_pred)\n",
    "    print(accuracy)\n",
    "\n",
    "\n",
    "\n"
   ]
  }
 ],
 "metadata": {
  "kernelspec": {
   "display_name": "watermark",
   "language": "python",
   "name": "python3"
  },
  "language_info": {
   "codemirror_mode": {
    "name": "ipython",
    "version": 3
   },
   "file_extension": ".py",
   "mimetype": "text/x-python",
   "name": "python",
   "nbconvert_exporter": "python",
   "pygments_lexer": "ipython3",
   "version": "3.10.13"
  }
 },
 "nbformat": 4,
 "nbformat_minor": 2
}
