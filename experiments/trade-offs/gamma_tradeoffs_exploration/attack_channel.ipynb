{
 "cells": [
  {
   "cell_type": "markdown",
   "metadata": {},
   "source": [
    "## alteration attack"
   ]
  },
  {
   "cell_type": "code",
   "execution_count": 53,
   "metadata": {},
   "outputs": [],
   "source": [
    "# parameters\n",
    "mu = 0\n",
    "sigma = 20\n",
    "\n",
    "#hiperparameters\n",
    "k = 500\n",
    "n = 300\n",
    "p = 1.5*sigma\n",
    "ratio_g_r = 3\n",
    "gamma = ratio_g_r / (ratio_g_r + 1)"
   ]
  },
  {
   "cell_type": "code",
   "execution_count": 54,
   "metadata": {},
   "outputs": [],
   "source": [
    "# 攻击\n",
    "import pandas as pd\n",
    "import numpy as np\n",
    "\n",
    "# 加载数据\n",
    "data = pd.read_csv('/home/zhengyihao/TabularMark/classfication_task/normal_distribution/watermarked_synthetic_dataset_labeled.csv')\n",
    "\n",
    "# 确定要扰动数据的数量\n",
    "alter_percentages = [0, 0.2, 0.4, 0.6, 0.8, 1.0]\n",
    "\n",
    "for alter_percentage in alter_percentages:\n",
    "    # 创建数据的深拷贝来扰动，这样就不会影响原始数据\n",
    "    altered_data = data.copy()\n",
    "\n",
    "    # 扰动数据\n",
    "    num_alter = int(len(data) * alter_percentage)\n",
    "    # print(num_alter)\n",
    "    indices_to_alter = np.random.choice(data.index, size=num_alter, replace=False)\n",
    "\n",
    "        # 对每个要扰动的数据进行操作\n",
    "    for idx in indices_to_alter:\n",
    "        alteration = np.random.uniform(-p, p)\n",
    "        altered_data.loc[idx, 'dimension_0'] += alteration\n",
    "\n",
    "\n",
    "    # 保存结果\n",
    "    altered_data.to_csv(f'/home/zhengyihao/dataset/normal_distribution/tabularmark_alter{int(alter_percentage*100)}.data.csv', index=False)"
   ]
  },
  {
   "cell_type": "markdown",
   "metadata": {},
   "source": [
    "## Detect"
   ]
  },
  {
   "cell_type": "code",
   "execution_count": 56,
   "metadata": {},
   "outputs": [
    {
     "name": "stdout",
     "output_type": "stream",
     "text": [
      "For alteration percentage 0%, green cells: 213\n",
      "The z-score is  -1.6\n",
      "The percentage of green celsl is  0.71\n",
      "For alteration percentage 20.0%, green cells: 213\n",
      "The z-score is  -1.6\n",
      "The percentage of green celsl is  0.71\n",
      "For alteration percentage 40.0%, green cells: 213\n",
      "The z-score is  -1.6\n",
      "The percentage of green celsl is  0.71\n",
      "For alteration percentage 60.0%, green cells: 223\n",
      "The z-score is  -0.26666666666666666\n",
      "The percentage of green celsl is  0.7433333333333333\n",
      "For alteration percentage 80.0%, green cells: 213\n",
      "The z-score is  -1.6\n",
      "The percentage of green celsl is  0.71\n",
      "For alteration percentage 100.0%, green cells: 219\n",
      "The z-score is  -0.8\n",
      "The percentage of green celsl is  0.73\n"
     ]
    }
   ],
   "source": [
    "import math\n",
    "import numpy as np\n",
    "import pandas as pd\n",
    "\n",
    "# 确定要扰动数据的数量\n",
    "alter_percentages = [0, 0.2, 0.4, 0.6, 0.8, 1.0]\n",
    "\n",
    "original_data = pd.read_csv(\"synthetic_dataset_labeled.csv\")\n",
    "\n",
    "# 加载索引列表\n",
    "with open('tabularmark_index.txt', 'r') as f:\n",
    "    indices = [int(line.strip()) for line in f.readlines()]\n",
    "\n",
    "# 加载种子列表\n",
    "with open('tabularmark_seed.txt', 'r') as f:\n",
    "    seeds = [int(line.strip()) for line in f.readlines()]\n",
    "\n",
    "for alter_percentage in alter_percentages:\n",
    "\n",
    "    # 读取相应的数据集\n",
    "    data = pd.read_csv(f'/home/zhengyihao/dataset/normal_distribution/tabularmark_alter{int(alter_percentage*100)}.data.csv')\n",
    "\n",
    "    green_cell = 0\n",
    "\n",
    "    for idx, seed in zip(indices, seeds):\n",
    "        np.random.seed(seed)\n",
    "        intervals = np.linspace(-p, p, k+1)\n",
    "        unit_domains = [(intervals[i], intervals[i+1]) for i in range(k)]\n",
    "        np.random.shuffle(unit_domains)\n",
    "\n",
    "        # 分割domains为green domains和red domains\n",
    "        green_domains = unit_domains[:int(len(unit_domains)/ (ratio_g_r + 1) * ratio_g_r)]\n",
    "        red_domains = unit_domains[int(len(unit_domains)/ (ratio_g_r + 1) * ratio_g_r):]\n",
    "\n",
    "\n",
    "        deviation = data.loc[idx, 'dimension_0'] - original_data.loc[idx, 'dimension_0']\n",
    "\n",
    "        # 初始设定 deviation 不在 green_domains 中\n",
    "        in_green_domains = False\n",
    "\n",
    "        # 遍历每一个 green_domains 元素\n",
    "        for domain in green_domains:\n",
    "            # 如果 deviation 在当前的 domain（区间）内\n",
    "            if domain[0] <= deviation < domain[1]:\n",
    "                # 设置 in_green_domains 为 True，然后跳出循环\n",
    "                in_green_domains = True\n",
    "                break\n",
    "\n",
    "        if in_green_domains :\n",
    "            green_cell += 1\n",
    "\n",
    "    print(f\"For alteration percentage {alter_percentage*100}%, green cells: {green_cell}\")\n",
    "\n",
    "    # calculate z-score\n",
    "\n",
    "    z_score = (green_cell - n*gamma) / math.sqrt(n*(gamma)*(1-gamma))\n",
    "\n",
    "    print(\"The z-score is \",z_score)\n",
    "    print(\"The percentage of green celsl is \", green_cell/ n)    \n"
   ]
  }
 ],
 "metadata": {
  "kernelspec": {
   "display_name": "watermark",
   "language": "python",
   "name": "python3"
  },
  "language_info": {
   "codemirror_mode": {
    "name": "ipython",
    "version": 3
   },
   "file_extension": ".py",
   "mimetype": "text/x-python",
   "name": "python",
   "nbconvert_exporter": "python",
   "pygments_lexer": "ipython3",
   "version": "3.10.13"
  }
 },
 "nbformat": 4,
 "nbformat_minor": 2
}
