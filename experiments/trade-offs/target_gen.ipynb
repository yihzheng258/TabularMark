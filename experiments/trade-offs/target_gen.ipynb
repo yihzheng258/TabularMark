{
 "cells": [
  {
   "cell_type": "code",
   "execution_count": 1,
   "metadata": {},
   "outputs": [
    {
     "name": "stdout",
     "output_type": "stream",
     "text": [
      "Target array added and saved to new CSV file.\n"
     ]
    }
   ],
   "source": [
    "import numpy as np\n",
    "import pandas as pd\n",
    "from scipy.special import expit  # logistic sigmoid function\n",
    "\n",
    "# 读取数据\n",
    "data = pd.read_csv(\"/home/zhengyihao/TabularMark/datasets/synthetic_dataset/synthetic_data.csv\")\n",
    "\n",
    "# 提取指定的两个属性\n",
    "X = data[['dimension_0', 'dimension_1']].values\n",
    "\n",
    "# 生成权重数组，范围在[-1, 1]\n",
    "np.random.seed(42)\n",
    "weights = np.random.uniform(-1, 1, X.shape[1])\n",
    "\n",
    "# 计算加权和\n",
    "weighted_sum = np.dot(X, weights)\n",
    "\n",
    "# 通过逻辑斯谛函数计算事件发生的概率\n",
    "probabilities = expit(weighted_sum)  # sigmoid function\n",
    "\n",
    "# 进行二项分布实验生成目标数组\n",
    "np.random.seed(42)\n",
    "target = np.random.binomial(1, probabilities)\n",
    "\n",
    "# 将目标数组添加到原始数据中\n",
    "data['target'] = target\n",
    "\n",
    "# 保存带有目标列的新数据\n",
    "data.to_csv(\"/home/zhengyihao/TabularMark/datasets/synthetic_dataset/synthetic_data.csv\", index=False)\n",
    "\n",
    "print(\"Target array added and saved to new CSV file.\")\n"
   ]
  }
 ],
 "metadata": {
  "kernelspec": {
   "display_name": "watermark",
   "language": "python",
   "name": "python3"
  },
  "language_info": {
   "codemirror_mode": {
    "name": "ipython",
    "version": 3
   },
   "file_extension": ".py",
   "mimetype": "text/x-python",
   "name": "python",
   "nbconvert_exporter": "python",
   "pygments_lexer": "ipython3",
   "version": "3.10.13"
  }
 },
 "nbformat": 4,
 "nbformat_minor": 2
}
