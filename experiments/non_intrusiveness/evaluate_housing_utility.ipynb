{
 "cells": [
  {
   "cell_type": "code",
   "execution_count": 13,
   "metadata": {},
   "outputs": [
    {
     "name": "stdout",
     "output_type": "stream",
     "text": [
      "MSE: 23.1586\n"
     ]
    }
   ],
   "source": [
    "import pandas as pd\n",
    "from sklearn.model_selection import train_test_split\n",
    "from sklearn.linear_model import LinearRegression\n",
    "from sklearn.metrics import mean_squared_error\n",
    "from sklearn.impute import SimpleImputer\n",
    "\n",
    "# 读取数据\n",
    "origin = pd.read_csv(\"../../datasets/boston_housing_prices/HousingData.csv\")\n",
    "\n",
    "# 分离特征和目标变量\n",
    "X = origin.drop(columns=['MEDV'])\n",
    "y = origin['MEDV']\n",
    "\n",
    "# 划分训练集和测试集\n",
    "X_train, X_test, y_train, y_test = train_test_split(X, y, test_size=0.3, random_state=42)\n",
    "\n",
    "# 删除训练集和测试集中包含 NaN 值的行\n",
    "X_train = X_train.dropna()\n",
    "y_train = y_train[X_train.index]\n",
    "\n",
    "X_test = X_test.dropna()\n",
    "y_test = y_test[X_test.index]\n",
    "\n",
    "\n",
    "# 定义线性回归模型\n",
    "model = LinearRegression()\n",
    "\n",
    "# 训练模型\n",
    "model.fit(X_train, y_train)\n",
    "\n",
    "# 预测\n",
    "y_pred = model.predict(X_test)\n",
    "\n",
    "# 计算均方误差\n",
    "mse = mean_squared_error(y_test, y_pred)\n",
    "\n",
    "# 输出均方误差\n",
    "print(f\"MSE: {mse:.4f}\")\n"
   ]
  },
  {
   "cell_type": "code",
   "execution_count": 16,
   "metadata": {},
   "outputs": [
    {
     "name": "stdout",
     "output_type": "stream",
     "text": [
      "MSE: 24.3045\n"
     ]
    }
   ],
   "source": [
    "import pandas as pd\n",
    "from sklearn.model_selection import train_test_split\n",
    "from sklearn.linear_model import LinearRegression\n",
    "from sklearn.metrics import mean_squared_error\n",
    "from sklearn.impute import SimpleImputer\n",
    "import numpy as np\n",
    "\n",
    "dataset = \"housing\"\n",
    "seed = 10000\n",
    "    \n",
    "# 读取数据\n",
    "origin = pd.read_csv(\"../../datasets/boston_housing_prices/HousingData.csv\")\n",
    "loaded_results = np.load(f\"../../datasets/boston_housing_prices/watermarked/{dataset}-{seed}.npy\", allow_pickle=True).item()\n",
    "watermarked_data = loaded_results['watermarked_data']\n",
    "divide_seeds = loaded_results['divide_seeds']\n",
    "indices = loaded_results['indices']\n",
    "\n",
    "\n",
    "# 分离特征和目标变量\n",
    "X = watermarked_data.drop(columns=['MEDV'])\n",
    "y = watermarked_data['MEDV']\n",
    "\n",
    "# 划分训练集和测试集\n",
    "X_train, _, y_train, _ = train_test_split(X, y, test_size=0.3, random_state=42)\n",
    "\n",
    "# 删除训练集和测试集中包含 NaN 值的行\n",
    "X_train = X_train.dropna()\n",
    "y_train = y_train[X_train.index]\n",
    "\n",
    "# 分离特征和目标变量\n",
    "X = origin.drop(columns=['MEDV'])\n",
    "y = origin['MEDV']\n",
    "\n",
    "# 划分训练集和测试集\n",
    "_, X_test, _, y_test = train_test_split(X, y, test_size=0.3, random_state=42)\n",
    "\n",
    "# 删除训练集和测试集中包含 NaN 值的行\n",
    "X_test = X_test.dropna()\n",
    "y_test = y_test[X_test.index]\n",
    "\n",
    "# 定义随机森林模型\n",
    "model = LinearRegression()\n",
    "\n",
    "# 训练模型\n",
    "model.fit(X_train, y_train)\n",
    "\n",
    "# 预测\n",
    "y_pred = model.predict(X_test)\n",
    "\n",
    "# 计算均方误差\n",
    "mse = mean_squared_error(y_test, y_pred)\n",
    "\n",
    "# 输出均方误差\n",
    "print(f\"MSE: {mse:.4f}\")\n",
    "\n"
   ]
  }
 ],
 "metadata": {
  "kernelspec": {
   "display_name": "watermark",
   "language": "python",
   "name": "python3"
  },
  "language_info": {
   "codemirror_mode": {
    "name": "ipython",
    "version": 3
   },
   "file_extension": ".py",
   "mimetype": "text/x-python",
   "name": "python",
   "nbconvert_exporter": "python",
   "pygments_lexer": "ipython3",
   "version": "3.10.13"
  }
 },
 "nbformat": 4,
 "nbformat_minor": 2
}
