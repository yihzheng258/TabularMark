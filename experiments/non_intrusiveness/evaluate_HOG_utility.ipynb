{
 "cells": [
  {
   "cell_type": "code",
   "execution_count": 53,
   "metadata": {},
   "outputs": [
    {
     "name": "stdout",
     "output_type": "stream",
     "text": [
      "Accuracy: 0.8167\n"
     ]
    }
   ],
   "source": [
    "import pandas as pd\n",
    "from sklearn.model_selection import train_test_split\n",
    "from sklearn.preprocessing import LabelEncoder\n",
    "from sklearn.metrics import accuracy_score\n",
    "from sklearn.ensemble import RandomForestClassifier\n",
    "\n",
    "# 读取数据\n",
    "origin = pd.read_csv(\"/home/zhengyihao/TabularMark/datasets/HOG/digits_HOG.csv\")\n",
    "\n",
    "# 分离特征和目标变量\n",
    "X = origin.drop(columns=['target'])\n",
    "y = origin['target']\n",
    "\n",
    "# 将目标变量进行标签编码\n",
    "le = LabelEncoder()\n",
    "y = le.fit_transform(y)\n",
    "\n",
    "# 划分训练集和测试集\n",
    "X_train, X_test, y_train, y_test = train_test_split(X, y, test_size=0.3, random_state=42)\n",
    "\n",
    "# 定义随机森林模型\n",
    "model = RandomForestClassifier(n_estimators=100, n_jobs=4)\n",
    "\n",
    "# 训练模型\n",
    "model.fit(X_train, y_train)\n",
    "\n",
    "# 预测\n",
    "y_pred = model.predict(X_test)\n",
    "\n",
    "# 计算准确率\n",
    "accuracy = accuracy_score(y_test, y_pred)\n",
    "\n",
    "# 输出准确率\n",
    "print(f\"Accuracy: {accuracy:.4f}\")\n"
   ]
  },
  {
   "cell_type": "code",
   "execution_count": 59,
   "metadata": {},
   "outputs": [
    {
     "name": "stdout",
     "output_type": "stream",
     "text": [
      "Accuracy: 0.1352\n"
     ]
    }
   ],
   "source": [
    "import pandas as pd\n",
    "from sklearn.model_selection import train_test_split\n",
    "from sklearn.preprocessing import LabelEncoder\n",
    "from sklearn.metrics import accuracy_score\n",
    "from sklearn.ensemble import RandomForestClassifier\n",
    "import numpy as np\n",
    "\n",
    "dataset = \"HOG\"\n",
    "seed = 10000\n",
    "    \n",
    "# 读取数据\n",
    "origin = pd.read_csv(\"/home/zhengyihao/TabularMark/datasets/HOG/digits_HOG.csv\")\n",
    "loaded_results = np.load(f\"/home/zhengyihao/TabularMark/datasets/HOG/watermarked/{dataset}-{seed}.npy\", allow_pickle=True).item()\n",
    "# watermarked_data = loaded_results['watermarked_data']\n",
    "watermarked_data = pd.read_csv(\"/home/zhengyihao/TabularMark/datasets/HOG/perturbed/HOG-10000-1.0-0.csv\")\n",
    "divide_seeds = loaded_results['divide_seeds']\n",
    "indices = loaded_results['indices']\n",
    "\n",
    "\n",
    "# 分离特征和目标变量\n",
    "X = watermarked_data.drop(columns=['target'])\n",
    "y = watermarked_data['target']\n",
    "\n",
    "# 将目标变量进行标签编码\n",
    "le = LabelEncoder()\n",
    "# print(y) \n",
    "y = le.fit_transform(y)\n",
    "# print(y)\n",
    "\n",
    "# 划分训练集和测试集\n",
    "X_train, _, y_train, _ = train_test_split(X, y, test_size=0.3, random_state=42)\n",
    "\n",
    "# 分离特征和目标变量\n",
    "X = origin.drop(columns=['target'])\n",
    "y = origin['target']\n",
    "\n",
    "# 将目标变量进行标签编码\n",
    "le = LabelEncoder()\n",
    "# print(y) \n",
    "y = le.fit_transform(y)\n",
    "# print(y)\n",
    "\n",
    "# 划分训练集和测试集\n",
    "_, X_test, _, y_test = train_test_split(X, y, test_size=0.3, random_state=42)\n",
    "\n",
    "\n",
    "# 定义随机森林模型\n",
    "model = RandomForestClassifier(n_estimators=100, n_jobs=4)\n",
    "\n",
    "# 训练模型\n",
    "model.fit(X_train, y_train)\n",
    "\n",
    "# 预测\n",
    "y_pred = model.predict(X_test)\n",
    "\n",
    "# 计算准确率\n",
    "accuracy = accuracy_score(y_test, y_pred)\n",
    "\n",
    "# 输出准确率\n",
    "print(f\"Accuracy: {accuracy:.4f}\")\n"
   ]
  }
 ],
 "metadata": {
  "kernelspec": {
   "display_name": "watermark",
   "language": "python",
   "name": "python3"
  },
  "language_info": {
   "codemirror_mode": {
    "name": "ipython",
    "version": 3
   },
   "file_extension": ".py",
   "mimetype": "text/x-python",
   "name": "python",
   "nbconvert_exporter": "python",
   "pygments_lexer": "ipython3",
   "version": "3.10.13"
  }
 },
 "nbformat": 4,
 "nbformat_minor": 2
}
