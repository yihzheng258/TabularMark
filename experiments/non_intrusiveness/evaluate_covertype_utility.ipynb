{
 "cells": [
  {
   "cell_type": "code",
   "execution_count": 7,
   "metadata": {},
   "outputs": [
    {
     "name": "stdout",
     "output_type": "stream",
     "text": [
      "Category 1: F1-score = 0.8820\n",
      "Category 2: F1-score = 0.9055\n",
      "Category 3: F1-score = 0.9213\n",
      "Category 4: F1-score = 0.8929\n",
      "Category 5: F1-score = 0.7172\n",
      "Category 6: F1-score = 0.8612\n",
      "Category 7: F1-score = 0.9483\n"
     ]
    }
   ],
   "source": [
    "import pandas as pd\n",
    "from sklearn.model_selection import train_test_split\n",
    "from sklearn.preprocessing import LabelEncoder\n",
    "from sklearn.metrics import f1_score\n",
    "import xgboost as xgb\n",
    "\n",
    "# 读取数据\n",
    "origin = pd.read_csv(\"../../datasets/covertype/cover_type_with_columns.csv\")\n",
    "\n",
    "# 分离特征和目标变量\n",
    "X = origin.drop(columns=['Cover_Type'])\n",
    "y = origin['Cover_Type']\n",
    "\n",
    "# 将目标变量进行标签编码\n",
    "le = LabelEncoder()\n",
    "# print(y) \n",
    "y = le.fit_transform(y)\n",
    "# print(y)\n",
    "\n",
    "# 划分训练集和测试集\n",
    "X_train, X_test, y_train, y_test = train_test_split(X, y, test_size=0.3, random_state=42)\n",
    "\n",
    "# 定义XGBoost模型\n",
    "model = xgb.XGBClassifier(n_estimators=30, max_depth=10, n_jobs=4)\n",
    "\n",
    "# 训练模型\n",
    "model.fit(X_train, y_train)\n",
    "\n",
    "# 预测\n",
    "y_pred = model.predict(X_test)\n",
    "\n",
    "# 计算每个类别的F1-scores\n",
    "f1_scores = f1_score(y_test, y_pred, average=None)\n",
    "\n",
    "# 输出F1-scores\n",
    "for i, score in enumerate(f1_scores):\n",
    "    print(f\"Category {le.inverse_transform([i])[0]}: F1-score = {score:.4f}\")\n"
   ]
  },
  {
   "cell_type": "code",
   "execution_count": 8,
   "metadata": {},
   "outputs": [
    {
     "name": "stdout",
     "output_type": "stream",
     "text": [
      "Category 1: F1-score = 0.8858\n",
      "Category 2: F1-score = 0.9078\n",
      "Category 3: F1-score = 0.9140\n",
      "Category 4: F1-score = 0.8906\n",
      "Category 5: F1-score = 0.7021\n",
      "Category 6: F1-score = 0.8486\n",
      "Category 7: F1-score = 0.9466\n"
     ]
    }
   ],
   "source": [
    "import pandas as pd\n",
    "from sklearn.model_selection import train_test_split\n",
    "from sklearn.preprocessing import LabelEncoder\n",
    "from sklearn.metrics import f1_score\n",
    "import xgboost as xgb\n",
    "import numpy as np\n",
    "\n",
    "dataset = 'covertype'\n",
    "seed = 10000\n",
    "\n",
    "# 读取数据\n",
    "origin = pd.read_csv(\"../../datasets/covertype/cover_type_with_columns.csv\")\n",
    "loaded_results = np.load(f\"../../datasets/covertype/watermarked/{dataset}-{seed}.npy\", allow_pickle=True).item()\n",
    "watermarked_data = loaded_results['watermarked_data']\n",
    "divide_seeds = loaded_results['divide_seeds']\n",
    "indices = loaded_results['indices']\n",
    "\n",
    "\n",
    "# 分离特征和目标变量\n",
    "X = watermarked_data.drop(columns=['Cover_Type'])\n",
    "y = watermarked_data['Cover_Type']\n",
    "\n",
    "# 将目标变量进行标签编码\n",
    "le = LabelEncoder()\n",
    "# print(y) \n",
    "y = le.fit_transform(y)\n",
    "# print(y)\n",
    "\n",
    "# 划分训练集和测试集\n",
    "X_train, _, y_train, _ = train_test_split(X, y, test_size=0.3, random_state=42)\n",
    "\n",
    "# 分离特征和目标变量\n",
    "X = origin.drop(columns=['Cover_Type'])\n",
    "y = origin['Cover_Type']\n",
    "\n",
    "# 将目标变量进行标签编码\n",
    "le = LabelEncoder()\n",
    "# print(y) \n",
    "y = le.fit_transform(y)\n",
    "# print(y)\n",
    "\n",
    "# 划分训练集和测试集\n",
    "_, X_test, _, y_test = train_test_split(X, y, test_size=0.3, random_state=42)\n",
    "\n",
    "# 定义XGBoost模型\n",
    "model = xgb.XGBClassifier(n_estimators=30, max_depth=10, n_jobs=4)\n",
    "\n",
    "# 训练模型\n",
    "model.fit(X_train, y_train)\n",
    "\n",
    "# 预测\n",
    "y_pred = model.predict(X_test)\n",
    "\n",
    "# 计算每个类别的F1-scores\n",
    "f1_scores = f1_score(y_test, y_pred, average=None)\n",
    "\n",
    "# 输出F1-scores\n",
    "for i, score in enumerate(f1_scores):\n",
    "    print(f\"Category {le.inverse_transform([i])[0]}: F1-score = {score:.4f}\")\n"
   ]
  }
 ],
 "metadata": {
  "kernelspec": {
   "display_name": "watermark",
   "language": "python",
   "name": "python3"
  },
  "language_info": {
   "codemirror_mode": {
    "name": "ipython",
    "version": 3
   },
   "file_extension": ".py",
   "mimetype": "text/x-python",
   "name": "python",
   "nbconvert_exporter": "python",
   "pygments_lexer": "ipython3",
   "version": "3.10.13"
  }
 },
 "nbformat": 4,
 "nbformat_minor": 2
}
